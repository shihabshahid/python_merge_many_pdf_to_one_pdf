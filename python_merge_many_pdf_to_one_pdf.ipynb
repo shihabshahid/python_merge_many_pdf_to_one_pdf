{
 "cells": [
  {
   "cell_type": "code",
   "execution_count": 1,
   "id": "6b0e6ebd-fd1c-408b-b5da-9ace0674cc66",
   "metadata": {},
   "outputs": [
    {
     "name": "stdout",
     "output_type": "stream",
     "text": [
      "['1.pdf', '2.pdf', '3.pdf', '4.pdf', '5.pdf']\n"
     ]
    }
   ],
   "source": [
    "import os\n",
    "\n",
    "# folder path\n",
    "dir_path = r''\n",
    "\n",
    "# list to store files\n",
    "filelist = []\n",
    "\n",
    "# Iterate directory\n",
    "for path in os.listdir(dir_path):\n",
    "    # check if current path is a file\n",
    "    if os.path.isfile(os.path.join(dir_path, path)):\n",
    "        if path.split(\".\")[-1] == 'pdf':\n",
    "            filelist.append(path)\n",
    "print(filelist)"
   ]
  },
  {
   "cell_type": "code",
   "execution_count": 2,
   "id": "5b81f123-caa0-4739-8759-773f17a0ee9b",
   "metadata": {},
   "outputs": [],
   "source": [
    " # PyMuPDF\n",
    "import pymupdf \n",
    "\n",
    "# The desired output document. In this case, we choose a new PDF.\n",
    "doc = pymupdf.open()  # an omitted argument causes creation of a new PDF\n",
    "\n",
    "# Now loop through names of input files to insert each.\n",
    "for filename in filelist:\n",
    "    doc.insert_file(filename)  # appends it to the end\n",
    "\n",
    "# At this point, we have a PDF that contains all input files.\n",
    "# We save it to disk, giving it a desired file name.\n",
    "doc.save('merge.pdf')\n",
    "doc.close()"
   ]
  },
  {
   "cell_type": "code",
   "execution_count": null,
   "id": "11000439-538d-41dd-bdbf-d578129cf727",
   "metadata": {},
   "outputs": [],
   "source": []
  }
 ],
 "metadata": {
  "kernelspec": {
   "display_name": "Python 3 (ipykernel)",
   "language": "python",
   "name": "python3"
  },
  "language_info": {
   "codemirror_mode": {
    "name": "ipython",
    "version": 3
   },
   "file_extension": ".py",
   "mimetype": "text/x-python",
   "name": "python",
   "nbconvert_exporter": "python",
   "pygments_lexer": "ipython3",
   "version": "3.11.7"
  }
 },
 "nbformat": 4,
 "nbformat_minor": 5
}
